{
 "cells": [
  {
   "cell_type": "code",
   "execution_count": 3,
   "id": "6741bd7c-69c5-4618-a00a-1345c80d8bf3",
   "metadata": {},
   "outputs": [
    {
     "name": "stderr",
     "output_type": "stream",
     "text": [
      "100%|██████████| 8/8 [00:00<00:00, 20.74it/s]\n",
      "100%|██████████| 121/121 [35:57<00:00, 17.83s/it]\n"
     ]
    }
   ],
   "source": [
    "import re\n",
    "import json\n",
    "import os\n",
    "from langchain.text_splitter import RecursiveCharacterTextSplitter\n",
    "from langchain_core.prompts import PromptTemplate\n",
    "from langchain_openai import ChatOpenAI\n",
    "import glob\n",
    "from tqdm import tqdm \n",
    "import random\n",
    "import csv\n",
    "files = glob.glob(\"./data/*.md\")\n",
    "list_chunks = []\n",
    "data_final = []\n",
    "instruction = \"\"\"You are an assistant for question-answering tasks. Use the context that the user gives to answer the question. Treat the context as your internal knowledge, hence do not explicitly mention the \"context\" in your answer like \"Based on the provided context...\".If your answer relates to any image description given below, you should refer explicitly to the image ID in your answer with the format [image_id.png].Give a long and detailed answer.\"\"\"\n",
    "model = \"MaziyarPanahi/Meta-Llama-3-70B-Instruct-GPTQ\"\n",
    "model_kwargs={'stop': ['<|eot_id|>', '<|end_of_text|>', '<|start_header_id|>', '<|end_header_id|>']}\n",
    "#llm = ChatOpenAI(model_name=model, openai_api_key='BVJD4F99OBYPLI0PTM46PI5VK5D09HUD2B404UT6',model_kwargs=model_kwargs, openai_api_base='https://api.runpod.ai/v2/vllm-svgd8vjj76vhwf/openai/v1/', temperature=0)\n",
    "turbo_llm = ChatOpenAI(\n",
    "            openai_api_key = 'sk-proj-Uwz9U5lQUkGeOl2g02hOT3BlbkFJieTKrXeuntuNotXA2Qb8',\n",
    "            temperature=0,\n",
    "            model_name=\"gpt-4o\"\n",
    "            #max_tokens = 4096 - 500\n",
    "        )\n",
    "template = \"\"\"Given the below context, generate 5 questions that cover all information from the context. The questions should be about the content of the given context, do NOT give questions about meta data of the document/context such as document structure, purpose or goal. Only give questions, each question in one line, starting with a number 1, 2, 3, 4, and 5.\n",
    "\n",
    "Context: {context}\"\"\"\n",
    "\n",
    "system = \"\"\"You are an assistant for question-answering tasks. \n",
    "Use the context that the user gives to answer the question. Treat the context as your internal knowledge, hence do not explicitly mention the \"context\" in your answer like \"Based on the provided context...\".\n",
    "If your answer relates to any image description given below, you should refer explicitly to the image ID in your answer with the format [image_id.png].\n",
    "Give a long and detailed answer. Always answer in English regardless of the document language.\"\"\"\n",
    "\n",
    "# template_answer = \"\"\"<|begin_of_text|><|start_header_id|>system<|end_header_id|>\n",
    "\n",
    "# You are an assistant for question-answering tasks. \n",
    "# Use the context that the user gives to answer the question. Treat the context as your internal knowledge, hence do not explicitly mention the \"context\" in your answer like \"Based on the provided context...\".\n",
    "# If your answer relates to any image description given below, you should refer explicitly to the image ID in your answer with the format [image_id.png].\n",
    "# Give a long and detailed answer.<|eot_id|><|start_header_id|>user<|end_header_id|>\n",
    "\n",
    "# Context: {context}\n",
    "\n",
    "# Question: {question}<|eot_id|>\n",
    "# <|start_header_id|>assistant<|end_header_id|>\n",
    "\n",
    "# Answer (long):\"\"\"\n",
    "\n",
    "def table_to_dict_list(table_text):\n",
    "        # Split table text into lines\n",
    "        lines = table_text.strip().split('\\n')\n",
    "    \n",
    "        # Initialize list to hold rows\n",
    "        rows = []\n",
    "    \n",
    "        # Iterate over each line\n",
    "        for line in lines:\n",
    "            # Split line into cells, ignoring empty cells\n",
    "            cells = [cell.strip() for cell in line.split('|') if cell.strip()]\n",
    "    \n",
    "            # Ensure cells are in key-value pair format\n",
    "            if len(cells) >= 2:\n",
    "                row_dict = {}\n",
    "                for i in range(0, len(cells), 2):\n",
    "                    key = cells[i].strip(':')  # Remove any trailing colon from keys\n",
    "                    if i + 1 < len(cells):  # Check if there's a corresponding value\n",
    "                        value = cells[i + 1].strip()\n",
    "                        row_dict[key] = value\n",
    "                rows.append(row_dict)\n",
    "    \n",
    "        return rows\n",
    "    \n",
    "for f in tqdm(files):\n",
    "    with open(f, 'r') as file:\n",
    "        content = file.read()\n",
    "    # Regex pattern to match tables in markdown\n",
    "    table_pattern = re.compile(r'(\\|.*?\\|(?:\\n\\|[-:]+.*?)+\\n(?:\\|.*?\\|(?:\\n|$))+)', re.DOTALL)\n",
    "    \n",
    "    # Find all tables\n",
    "    tables = table_pattern.findall(content)\n",
    "    # Replace each table with its dictionary representation\n",
    "    i = 0\n",
    "    for table in tables:\n",
    "        table_dict_list = table_to_dict_list(table)\n",
    "        table_dict_str = str(table_dict_list)\n",
    "        content = content.replace(table, f'<table_{i}>{table_dict_str}</table_{i}>')\n",
    "        i+= 1\n",
    "    \n",
    "    text_splitter = RecursiveCharacterTextSplitter (chunk_size=1000)\n",
    "    texts = text_splitter.create_documents([content])\n",
    "    new_chunk = [c.page_content for c in texts]\n",
    "    list_chunks.extend(new_chunk)\n",
    "with open(\"./data/HY-TTC_500_IO_Driver_Manual_V3.4.1_caption.md\", 'r') as file:\n",
    "    content = file.read()\n",
    "# Regex pattern to match tables in markdown\n",
    "table_pattern = re.compile(r'(\\|.*?\\|(?:\\n\\|[-:]+.*?)+\\n(?:\\|.*?\\|(?:\\n|$))+)', re.DOTALL)\n",
    "\n",
    "# Find all tables\n",
    "tables = table_pattern.findall(content)\n",
    "# Replace each table with its dictionary representation\n",
    "i = 0\n",
    "for table in tables:\n",
    "    table_dict_list = table_to_dict_list(table)\n",
    "    table_dict_str = str(table_dict_list)\n",
    "    content = content.replace(table, f'<table_{i}>{table_dict_str}</table_{i}>')\n",
    "    i+= 1\n",
    "\n",
    "text_splitter = RecursiveCharacterTextSplitter (chunk_size=5000)\n",
    "texts = text_splitter.create_documents([content])\n",
    "with open('./data/gpt_1.csv', 'w', newline='') as output_file:\n",
    "    dict_writer = csv.DictWriter(output_file, ['instruction', 'input', 'output'])\n",
    "    dict_writer.writeheader()\n",
    "    for text in tqdm(texts):\n",
    "        chunks = RecursiveCharacterTextSplitter (chunk_size=1000).create_documents([text.page_content])\n",
    "        new_chunk = [c.page_content for c in chunks]\n",
    "        random_chunk = random.choices(list_chunks, k=5)\n",
    "        new_chunk.extend(random_chunk)\n",
    "        random.shuffle(new_chunk)\n",
    "        context_input = \" <chunk_seperator> \".join(new_chunk)\n",
    "        response = turbo_llm.invoke([('human', template.format(context=text.page_content))])\n",
    "        questions = response.content\n",
    "        l = questions.split(\"\\n\")\n",
    "        list_q = []\n",
    "        for q in l:\n",
    "            if \"1. \" in q or \"2. \" in q or \"3. \" in q or \"4. \" in q or \"5. \" in q:\n",
    "                dict_data = {}\n",
    "                dict_data['instruction'] = instruction\n",
    "                dict_data['input'] = f'Context: {context_input}\\nQuestion: {q[2:]}'\n",
    "                # dict_data['output'] = llm.invoke(template_answer.format(context=text.page_content, question= q[2:]))\n",
    "                dict_data['output'] = turbo_llm.invoke([('system', system), ('human', f'Context: {text.page_content}\\nQuestion: {q[2:]}')]).content\n",
    "                data_final.append(dict_data)\n",
    "                dict_writer.writerow(dict_data)"
   ]
  },
  {
   "cell_type": "code",
   "execution_count": null,
   "id": "10aae4ae-4480-4391-b54c-31e7187d3bff",
   "metadata": {},
   "outputs": [],
   "source": []
  },
  {
   "cell_type": "code",
   "execution_count": null,
   "id": "0e018fa6-b3c4-4f73-a0f4-9f9c013b664a",
   "metadata": {},
   "outputs": [],
   "source": [
    "EN_HFT_Protokollbeschreibung_VFL CANopen_2021-10-25_D_caption\n",
    "Noticedutilisation_HMG4000_fr_R20_2021-03-29_caption\n",
    "HY-TTC_500_IO_Driver_Manual_V3.4.1_caption\n",
    "HY-TTC_500_Quick_Start_Guide_C_Programming_V1.4.6_caption\n",
    "HY-TTC_500_Safety_Manual_V1.13.0_caption"
   ]
  },
  {
   "cell_type": "code",
   "execution_count": null,
   "id": "b354396a-6d1b-47e2-83ed-03edb96552fb",
   "metadata": {},
   "outputs": [],
   "source": [
    "import csv\n",
    "new_list = []\n",
    "for data in data_final:\n",
    "    data['output'] = data['output'].content\n",
    "    new_list.append(data)\n",
    "keys = new_list[0].keys()\n",
    "print(keys)\n",
    "with open('./data/file1.csv', 'w', newline='') as output_file:\n",
    "    dict_writer = csv.DictWriter(output_file, keys)\n",
    "    dict_writer.writeheader()\n",
    "    dict_writer.writerows(new_list)"
   ]
  },
  {
   "cell_type": "code",
   "execution_count": null,
   "id": "7fbf3bd3-251d-40c2-8341-e172b90e6ed2",
   "metadata": {},
   "outputs": [],
   "source": [
    "new_list[0]"
   ]
  },
  {
   "cell_type": "code",
   "execution_count": null,
   "id": "a8c88356-5ab6-4b3f-9346-d31ff343dad8",
   "metadata": {},
   "outputs": [],
   "source": [
    "l = questions.split(\"\\n\")\n",
    "list_q = []\n",
    "for q in l:\n",
    "    if \"1. \" in q or \"2. \" in q or \"3. \" in q or \"4. \" in q or \"5. \" in q:\n",
    "        list_q.append(q)\n",
    "list_q"
   ]
  },
  {
   "cell_type": "code",
   "execution_count": null,
   "id": "04bb9e6a-0f19-4431-a4e8-25b8a32cb420",
   "metadata": {},
   "outputs": [],
   "source": [
    "from langchain.text_splitter import RecursiveCharacterTextSplitter\n",
    "text_splitter = RecursiveCharacterTextSplitter (chunk_size=5000)\n",
    "texts = text_splitter.create_documents([content])\n"
   ]
  },
  {
   "cell_type": "code",
   "execution_count": null,
   "id": "7a1e7204-0e35-42e1-a6fe-5069a7cd17d8",
   "metadata": {},
   "outputs": [],
   "source": [
    "print(texts[2].page_content)"
   ]
  },
  {
   "cell_type": "code",
   "execution_count": null,
   "id": "05c96925-c4b1-44e3-b9fd-a6fd359b7e83",
   "metadata": {},
   "outputs": [],
   "source": [
    "\n",
    "model = \"MaziyarPanahi/Meta-Llama-3-70B-Instruct-GPTQ\"\n",
    "model_kwargs={'stop': ['<|eot_id|>', '<|end_of_text|>']}\n",
    "llm = ChatOpenAI(model_name=model, openai_api_key='BVJD4F99OBYPLI0PTM46PI5VK5D09HUD2B404UT6',model_kwargs=model_kwargs, openai_api_base='https://api.runpod.ai/v2/vllm-svgd8vjj76vhwf/openai/v1/', temperature=0)\n",
    "\n",
    "template = \"\"\"<|begin_of_text|><|start_header_id|>user<|end_header_id|>\n",
    "\n",
    "Given the below context, generate 5 questions that cover all information from the context. The questions should be about the content of the given context, do NOT give questions about meta data of the document/context such as document structure, purpose or goal. Only give questions, each question in one line, starting with a number 1, 2, 3, 4, and 5.\n",
    "\n",
    "Context: {context}<|eot_id|>\n",
    "<|start_header_id|>assistant<|end_header_id|>\n",
    "\n",
    "\"\"\"\n",
    "\n",
    "context = texts[2].page_content\n",
    "response = llm.invoke(template.format(context=context))\n",
    "\n"
   ]
  },
  {
   "cell_type": "code",
   "execution_count": null,
   "id": "c84ac75a-aa64-40c9-ae9b-21ba97efd2bc",
   "metadata": {},
   "outputs": [],
   "source": [
    "questions = response.content"
   ]
  },
  {
   "cell_type": "code",
   "execution_count": null,
   "id": "cb249601-b338-4446-a256-7d4186151ca1",
   "metadata": {},
   "outputs": [],
   "source": [
    "list_questions = questions.replace(\"Here are 5 questions that cover all the information from the context:\\n\\n\", \"\").split(\"\\n\")"
   ]
  },
  {
   "cell_type": "code",
   "execution_count": null,
   "id": "d11ca4d5-b644-4a01-be05-c578a6437800",
   "metadata": {},
   "outputs": [],
   "source": [
    "list_questions"
   ]
  },
  {
   "cell_type": "code",
   "execution_count": null,
   "id": "c19eb38e-73a1-4672-b9e1-3312efdcbd08",
   "metadata": {},
   "outputs": [],
   "source": [
    "template_answer = \"\"\"<|begin_of_text|><|start_header_id|>system<|end_header_id|>\n",
    "\n",
    "You are an assistant for question-answering tasks. \n",
    "Use the context that the user gives to answer the question. Treat the context as your internal knowledge, hence do not explicitly mention the \"context\" in your answer like \"Based on the provided context...\".\n",
    "If your answer relates to any image description given below, you should refer explicitly to the image ID in your answer with the format [image_id.png].\n",
    "Give a long and detailed.<|eot_id|><|start_header_id|>user<|end_header_id|>\n",
    "\n",
    "Context: {context}\n",
    "\n",
    "Question: {question}<|eot_id|>\n",
    "<|start_header_id|>assistant<|end_header_id|>\n",
    "\n",
    "Answer (long):\"\"\"\n"
   ]
  },
  {
   "cell_type": "code",
   "execution_count": null,
   "id": "3f8367b8-1a8b-4532-8c13-a389682e8dcc",
   "metadata": {},
   "outputs": [],
   "source": [
    "\n",
    "response = llm.invoke(template_answer.format(context=context, question= list_questions[-1][2:]))"
   ]
  },
  {
   "cell_type": "code",
   "execution_count": null,
   "id": "a70d5c6f-eb2d-41e3-aae0-1e0888a2cca5",
   "metadata": {},
   "outputs": [],
   "source": [
    "print(response.content)"
   ]
  },
  {
   "cell_type": "code",
   "execution_count": null,
   "id": "d69faba0-2fd5-49ad-b2b9-8772fedaaf5d",
   "metadata": {},
   "outputs": [],
   "source": [
    "outputs = []"
   ]
  },
  {
   "cell_type": "code",
   "execution_count": null,
   "id": "a806ad23-129d-4c5e-95d3-b27461ad3fb8",
   "metadata": {},
   "outputs": [],
   "source": [
    "outputs.append()"
   ]
  },
  {
   "cell_type": "code",
   "execution_count": 1,
   "id": "4a19f4a6-f4fe-4507-b165-0c41ced9b46e",
   "metadata": {},
   "outputs": [],
   "source": [
    "from langchain.text_splitter import RecursiveCharacterTextSplitter\n",
    "content=\"\"\"## 7.3.2.2 Io_Errortype Diag_Getcfgflasherrors ( Ubyte2 ∗ Err_Cnt, Bool ∗ **Overflow** )\n",
    "\n",
    "Reads the number of correctable ECC errors in the configuration flash.\n",
    "\n",
    "This function returns the number of correctable ECC errors in the configuration flash since start-up.\n",
    "\n",
    "<table_20>[{'Parameters out': 'err_cnt'}, {'------------------': '-----------'}, {'out': 'overflow'}]</table_20>\n",
    "<table_21>[{'Return values IO_E_OK': 'Operation executed successfully.'}, {'-------------------------': '------------------------------------------'}, {'IO_E_NULL_POINTER': 'The err_cnt parameter is a NULL pointer.'}]</table_21>\n",
    "## 7.3.2.3 Io_Errortype Diag_Getflasherrors ( Ubyte2 ∗ Err_Cnt, Bool ∗ **Overflow** )\n",
    "\n",
    "Reads the number of correctable ECC errors in the internal flash.\n",
    "\n",
    "This function returns the number of correctable ECC errors in the flash since start-up.\n",
    "\n",
    "If there is an overflow in the 16 bit internal register in the CPU, the overflow **parameter is set to** TRUE and err_cnt is set to 65,535.\n",
    "\n",
    "<table_22>[{'Parameters out': 'err_cnt'}, {'-----------------------': '------------------------------------------'}, {'out': 'overflow'}, {'Return values IO_E_OK': 'Operation executed successfully.'}, {'IO_E_NULL_POINTER': 'The err_cnt parameter is a NULL pointer.'}]</table_22>\n",
    "## 7.3.2.4 Io_Errortype Diag_Getramb0Errors ( Ubyte2 ∗ Err_Cnt, Bool ∗ **Overflow** )\n",
    "\n",
    "Reads the number of correctable ECC errors in bank 0 of the internal RAM.\n",
    "\n",
    "This function returns the number of correctable ECC errors in bank 0 of the internal RAM since\n",
    "\n",
    "start-up.\n",
    "\n",
    "If there is an overflow in the 16 bit internal register in the CPU, the overflow **parameter is set to** TRUE and err_cnt **is set to 65,535.** Parameters\n",
    "\n",
    "out *err_cnt* **Returns the correctable ECC error counter value of bank 0 of the**\n",
    "\n",
    "internal RAM.\n",
    "\n",
    "out *overflow* **Returns the counter overflow status. This parameter is optional (it**'s\n",
    "\n",
    "not set if **NULL**).\n",
    "\n",
    "Possible values are:\n",
    "\n",
    "- **FALSE: No overflow occurred.**\n",
    "\n",
    "- **TRUE: An overflow occurred in the counter. The actual number of errors is anything larger than 65,535.**\n",
    "\n",
    "Return values\n",
    "\n",
    "## 7.3.2.5 Io_Errortype Diag_Getramb1Errors ( Ubyte2 ∗ Err_Cnt, Bool ∗ **Overflow** )\n",
    "\n",
    "<table_23>[{'IO_E_OK': 'Operation executed successfully.'}, {'-------------------': '------------------------------------------'}, {'IO_E_NULL_POINTER': 'The err_cnt parameter is a NULL pointer.'}]</table_23>\n",
    "Reads the number of correctable ECC errors in bank 1 of the internal RAM.\n",
    "\n",
    "This function returns the number of correctable ECC errors in bank 1 of the internal RAM since start-up.\n",
    "\n",
    "If there is an overflow in the 16 bit internal register in the CPU, the overflow **parameter is set to**\n",
    "TRUE and err_cnt is set to 65,535.\n",
    "\n",
    "<table_24>[{'Parameters out': 'err_cnt'}, {'-----------------------': '------------------------------------------'}, {'out': 'overflow'}, {'Return values IO_E_OK': 'Operation executed successfully.'}, {'IO_E_NULL_POINTER': 'The err_cnt parameter is a NULL pointer.'}]</table_24>\n",
    "## 7.3.2.6 Io_Errortype Diag_Status ( Ubyte1 ∗ Diag_State, Ubyte1 ∗ Watchdog_State, **Diag_** Errorcode ∗ Diag_Error, Diag_Errorcode ∗ Watchdog_Error, Ubyte1 ∗ **Error_** Count )\n",
    "\n",
    "Status function for diagnostic state machine and watchdog states.\n",
    "\n",
    "Returns the current status as well as the error codes of the diagnostic state machine and the watchdog CPU.\n",
    "\n",
    "<table_25>[{'out': 'diag_state'}, {'-------': '----------------'}, {'out': 'watchdog_state'}, {'out': 'diag_error'}, {'out': 'watchdog_error'}, {'out': 'error_count'}]</table_25>\n",
    "Parameters Returns IO_ErrorType\n",
    "\n",
    "<table_26>[{'Return values IO_E_OK': 'everything fine'}, {'-------------------------': '-------------------'}, {'Parameters raw_value': 'raw adc board temperature returned from the IO_ADC_Get() function'}, {'------------------------': '---'}]</table_26>\n",
    "Returns the board temperature in degree Celsius ( -63 .. 152 degree C )\n",
    "Remarks Usage:\n",
    "1 IO_ADC_Get(IO_ADC_BOARD_TEMP, 2 &raw_value, 3 &fresh);\"\"\""
   ]
  },
  {
   "cell_type": "code",
   "execution_count": 2,
   "id": "dd88e4af-0fac-4b79-9b94-cce12bdc2c11",
   "metadata": {},
   "outputs": [],
   "source": [
    "text_splitter = RecursiveCharacterTextSplitter (chunk_size=1000)\n",
    "texts = text_splitter.create_documents([content])"
   ]
  },
  {
   "cell_type": "code",
   "execution_count": 3,
   "id": "ba1974ea-d4b5-4f1c-a09c-d9c9459849e0",
   "metadata": {},
   "outputs": [
    {
     "data": {
      "text/plain": [
       "\"## 7.3.2.2 Io_Errortype Diag_Getcfgflasherrors ( Ubyte2 ∗ Err_Cnt, Bool ∗ **Overflow** )\\n\\nReads the number of correctable ECC errors in the configuration flash.\\n\\nThis function returns the number of correctable ECC errors in the configuration flash since start-up.\\n\\n<table_20>[{'Parameters out': 'err_cnt'}, {'------------------': '-----------'}, {'out': 'overflow'}]</table_20>\\n<table_21>[{'Return values IO_E_OK': 'Operation executed successfully.'}, {'-------------------------': '------------------------------------------'}, {'IO_E_NULL_POINTER': 'The err_cnt parameter is a NULL pointer.'}]</table_21>\\n## 7.3.2.3 Io_Errortype Diag_Getflasherrors ( Ubyte2 ∗ Err_Cnt, Bool ∗ **Overflow** )\\n\\nReads the number of correctable ECC errors in the internal flash.\\n\\nThis function returns the number of correctable ECC errors in the flash since start-up.\\n\\nIf there is an overflow in the 16 bit internal register in the CPU, the overflow **parameter is set to** TRUE and err_cnt is set to 65,535.\\n\\n<table_22>[{'Parameters out': 'err_cnt'}, {'-----------------------': '------------------------------------------'}, {'out': 'overflow'}, {'Return values IO_E_OK': 'Operation executed successfully.'}, {'IO_E_NULL_POINTER': 'The err_cnt parameter is a NULL pointer.'}]</table_22>\\n## 7.3.2.4 Io_Errortype Diag_Getramb0Errors ( Ubyte2 ∗ Err_Cnt, Bool ∗ **Overflow** )\\n\\nReads the number of correctable ECC errors in bank 0 of the internal RAM.\\n\\nThis function returns the number of correctable ECC errors in bank 0 of the internal RAM since\\n\\nstart-up.\\n\\nIf there is an overflow in the 16 bit internal register in the CPU, the overflow **parameter is set to** TRUE and err_cnt **is set to 65,535.** Parameters\\n\\nout *err_cnt* **Returns the correctable ECC error counter value of bank 0 of the**\\n\\ninternal RAM.\\n\\nout *overflow* **Returns the counter overflow status. This parameter is optional (it**'s\\n\\nnot set if **NULL**).\\n\\nPossible values are:\\n\\n- **FALSE: No overflow occurred.**\\n\\n- **TRUE: An overflow occurred in the counter. The actual number of errors is anything larger than 65,535.**\\n\\nReturn values\\n\\n## 7.3.2.5 Io_Errortype Diag_Getramb1Errors ( Ubyte2 ∗ Err_Cnt, Bool ∗ **Overflow** )\\n\\n<table_23>[{'IO_E_OK': 'Operation executed successfully.'}, {'-------------------': '------------------------------------------'}, {'IO_E_NULL_POINTER': 'The err_cnt parameter is a NULL pointer.'}]</table_23>\\nReads the number of correctable ECC errors in bank 1 of the internal RAM.\\n\\nThis function returns the number of correctable ECC errors in bank 1 of the internal RAM since start-up.\\n\\nIf there is an overflow in the 16 bit internal register in the CPU, the overflow **parameter is set to**\\nTRUE and err_cnt is set to 65,535.\\n\\n<table_24>[{'Parameters out': 'err_cnt'}, {'-----------------------': '------------------------------------------'}, {'out': 'overflow'}, {'Return values IO_E_OK': 'Operation executed successfully.'}, {'IO_E_NULL_POINTER': 'The err_cnt parameter is a NULL pointer.'}]</table_24>\\n## 7.3.2.6 Io_Errortype Diag_Status ( Ubyte1 ∗ Diag_State, Ubyte1 ∗ Watchdog_State, **Diag_** Errorcode ∗ Diag_Error, Diag_Errorcode ∗ Watchdog_Error, Ubyte1 ∗ **Error_** Count )\\n\\nStatus function for diagnostic state machine and watchdog states.\\n\\nReturns the current status as well as the error codes of the diagnostic state machine and the watchdog CPU.\\n\\n<table_25>[{'out': 'diag_state'}, {'-------': '----------------'}, {'out': 'watchdog_state'}, {'out': 'diag_error'}, {'out': 'watchdog_error'}, {'out': 'error_count'}]</table_25>\\nParameters Returns IO_ErrorType\\n\\n<table_26>[{'Return values IO_E_OK': 'everything fine'}, {'-------------------------': '-------------------'}, {'Parameters raw_value': 'raw adc board temperature returned from the IO_ADC_Get() function'}, {'------------------------': '---'}]</table_26>\\nReturns the board temperature in degree Celsius ( -63 .. 152 degree C )\\nRemarks Usage:\\n1 IO_ADC_Get(IO_ADC_BOARD_TEMP, 2 &raw_value, 3 &fresh);\""
      ]
     },
     "execution_count": 3,
     "metadata": {},
     "output_type": "execute_result"
    }
   ],
   "source": [
    "content"
   ]
  },
  {
   "cell_type": "code",
   "execution_count": 5,
   "id": "d634d73b-e9b9-4886-908f-db30f67609ee",
   "metadata": {},
   "outputs": [
    {
     "name": "stdout",
     "output_type": "stream",
     "text": [
      "['[1_image_0.png]', '[32_image_0.png]']\n"
     ]
    }
   ],
   "source": [
    "import re\n",
    "\n",
    "text = \"\"\"The purpose of the collaboration diagram in the [table_0.png] Io_Driver_Safety_Conf_ struct reference, as shown in [32_image_0.png], is to illustrate the relationships and interactions between different components or elements related to driver safety configuration. The diagram appears to convey information about error handling within the system, with a prominent label \"diag_errorcode\" and a purple line drawing attention to it. The diagram likely helps developers or users understand how the Io_Driver_Safety_Conf_ struct fits into the larger system architecture and how it interacts with other components to ensure driver safety.\"\"\"\n",
    "\n",
    "pattern = r'\\[table_\\d+\\]'\n",
    "\n",
    "matches = re.findall(pattern, text)\n",
    "print(matches)"
   ]
  },
  {
   "cell_type": "code",
   "execution_count": null,
   "id": "b8cdd151-c8d7-4ed7-b2dd-90ba993b2030",
   "metadata": {},
   "outputs": [],
   "source": []
  }
 ],
 "metadata": {
  "kernelspec": {
   "display_name": "Python 3 (ipykernel)",
   "language": "python",
   "name": "python3"
  },
  "language_info": {
   "codemirror_mode": {
    "name": "ipython",
    "version": 3
   },
   "file_extension": ".py",
   "mimetype": "text/x-python",
   "name": "python",
   "nbconvert_exporter": "python",
   "pygments_lexer": "ipython3",
   "version": "3.10.14"
  }
 },
 "nbformat": 4,
 "nbformat_minor": 5
}
