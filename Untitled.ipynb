{
 "cells": [
  {
   "cell_type": "code",
   "execution_count": 8,
   "id": "713454cd-e5c1-4d55-99f2-ea5a84833b00",
   "metadata": {},
   "outputs": [],
   "source": [
    "from langchain_huggingface.embeddings.huggingface import HuggingFaceEmbeddings\n",
    "from typing import List"
   ]
  },
  {
   "cell_type": "code",
   "execution_count": 9,
   "id": "8d4fec8b-ace4-408c-9db4-f6c02f98381d",
   "metadata": {},
   "outputs": [],
   "source": [
    "class HFEmbeddings(HuggingFaceEmbeddings):\n",
    "    def embed_query(self, text: str) -> List[float]:\n",
    "        task = 'Given a question, retrieve passages that answer the question'\n",
    "        prompt = f\"Instruct: {task}\\nQuery: \"\n",
    "        \"\"\"Compute query embeddings using a HuggingFace transformer model.\n",
    "\n",
    "        Args:\n",
    "            text: The text to embed.\n",
    "\n",
    "        Returns:\n",
    "            Embeddings for the text.\n",
    "        \"\"\"\n",
    "        return self.embed_documents([prompt + text])[0]\n"
   ]
  },
  {
   "cell_type": "code",
   "execution_count": 11,
   "id": "212c082b-d224-4e79-91d0-b419f9874f4e",
   "metadata": {},
   "outputs": [
    {
     "name": "stdout",
     "output_type": "stream",
     "text": [
      "Requirement already satisfied: markdown-analysis in /root/miniconda3/envs/py3.10/lib/python3.10/site-packages (0.0.5)\n",
      "Requirement already satisfied: urllib3 in /root/miniconda3/envs/py3.10/lib/python3.10/site-packages (from markdown-analysis) (2.2.1)\n",
      "Requirement already satisfied: requests in /root/miniconda3/envs/py3.10/lib/python3.10/site-packages (from markdown-analysis) (2.32.2)\n",
      "Requirement already satisfied: charset-normalizer<4,>=2 in /root/miniconda3/envs/py3.10/lib/python3.10/site-packages (from requests->markdown-analysis) (2.1.1)\n",
      "Requirement already satisfied: idna<4,>=2.5 in /root/miniconda3/envs/py3.10/lib/python3.10/site-packages (from requests->markdown-analysis) (3.7)\n",
      "Requirement already satisfied: certifi>=2017.4.17 in /root/miniconda3/envs/py3.10/lib/python3.10/site-packages (from requests->markdown-analysis) (2024.2.2)\n"
     ]
    }
   ],
   "source": [
    "!pip install markdown-analysis"
   ]
  },
  {
   "cell_type": "code",
   "execution_count": 13,
   "id": "41d1f9f8-c273-4d2c-bb05-aab0f1892fee",
   "metadata": {},
   "outputs": [
    {
     "name": "stdout",
     "output_type": "stream",
     "text": [
      "Original Table 1:\n",
      "Table\n",
      "\n"
     ]
    }
   ],
   "source": [
    "from mrkdwn_analysis import MarkdownAnalyzer\n",
    "\n",
    "analyzer = MarkdownAnalyzer(\"./final_2.md\")\n",
    "\n",
    "tables = analyzer.identify_tables()\n",
    "\n",
    "for i, table in enumerate(tables):\n",
    "    print(f\"Original Table {i + 1}:\\n{table}\\n\")"
   ]
  },
  {
   "cell_type": "code",
   "execution_count": 1,
   "id": "05a9e4cd-be2a-41ea-88f2-20ca26883b2c",
   "metadata": {},
   "outputs": [
    {
     "name": "stdout",
     "output_type": "stream",
     "text": [
      "env: CUDA_VISIBLE_DEVICES=\"\"\n"
     ]
    },
    {
     "name": "stderr",
     "output_type": "stream",
     "text": [
      "/root/miniconda3/envs/py3.10/lib/python3.10/site-packages/sentence_transformers/cross_encoder/CrossEncoder.py:11: TqdmWarning: IProgress not found. Please update jupyter and ipywidgets. See https://ipywidgets.readthedocs.io/en/stable/user_install.html\n",
      "  from tqdm.autonotebook import tqdm, trange\n",
      "The installed version of bitsandbytes was compiled without GPU support. 8-bit optimizers, 8-bit multiplication, and GPU quantization are unavailable.\n",
      "/root/miniconda3/envs/py3.10/lib/python3.10/site-packages/huggingface_hub/file_download.py:1132: FutureWarning: `resume_download` is deprecated and will be removed in version 1.0.0. Downloads always resume when possible. If you want to force a new download, use `force_download=True`.\n",
      "  warnings.warn(\n",
      "Loading checkpoint shards: 100%|██████████| 3/3 [00:06<00:00,  2.02s/it]\n"
     ]
    },
    {
     "name": "stdout",
     "output_type": "stream",
     "text": [
      "[[73.72908782958984, 30.122779846191406], [29.155075073242188, 79.25374603271484]]\n"
     ]
    }
   ],
   "source": [
    "%env CUDA_VISIBLE_DEVICES=\"\"\n",
    "from sentence_transformers import SentenceTransformer\n",
    "\n",
    "# Load the model\n",
    "model = SentenceTransformer(\"Linq-AI-Research/Linq-Embed-Mistral\")\n",
    "\n",
    "# Each query must come with a one-sentence instruction that describes the task\n",
    "task = 'Given a question, retrieve Wikipedia passages that answer the question'\n",
    "prompt = f\"Instruct: {task}\\nQuery: \"\n",
    "queries = [\n",
    "    \"최초의 원자력 발전소는 무엇인가?\",\n",
    "    \"Who invented Hangul?\"\n",
    "]\n",
    "passages = [\n",
    "    \"현재 사용되는 핵분열 방식을 이용한 전력생산은 1948년 9월 미국 테네시주 오크리지에 설치된 X-10 흑연원자로에서 전구의 불을 밝히는 데 사용되면서 시작되었다. 그리고 1954년 6월에 구소련의 오브닌스크에 건설된 흑연감속 비등경수 압력관형 원자로를 사용한 오브닌스크 원자력 발전소가 시험적으로 전력생산을 시작하였고, 최초의 상업용 원자력 엉더이로를 사용한 영국 셀라필드 원자력 단지에 위치한 콜더 홀(Calder Hall) 원자력 발전소로, 1956년 10월 17일 상업 운전을 시작하였다.\",\n",
    "    \"Hangul was personally created and promulgated by the fourth king of the Joseon dynasty, Sejong the Great.[1][2] Sejong's scholarly institute, the Hall of Worthies, is often credited with the work, and at least one of its scholars was heavily involved in its creation, but it appears to have also been a personal project of Sejong.\"\n",
    "]\n",
    "\n",
    "# Encode the queries and passages. We only use the prompt for the queries\n",
    "query_embeddings = model.encode(queries, prompt=prompt)\n",
    "passage_embeddings = model.encode(passages)\n",
    "\n",
    "# Compute the (cosine) similarity scores\n",
    "scores = model.similarity(query_embeddings, passage_embeddings) * 100\n",
    "print(scores.tolist())\n",
    "# [[73.72908782958984, 30.122787475585938], [29.15508460998535, 79.25375366210938]]\n"
   ]
  },
  {
   "cell_type": "code",
   "execution_count": null,
   "id": "28299dec-b25b-4d69-a4dd-79914d10c834",
   "metadata": {},
   "outputs": [],
   "source": []
  }
 ],
 "metadata": {
  "kernelspec": {
   "display_name": "Python 3 (ipykernel)",
   "language": "python",
   "name": "python3"
  },
  "language_info": {
   "codemirror_mode": {
    "name": "ipython",
    "version": 3
   },
   "file_extension": ".py",
   "mimetype": "text/x-python",
   "name": "python",
   "nbconvert_exporter": "python",
   "pygments_lexer": "ipython3",
   "version": "3.10.14"
  }
 },
 "nbformat": 4,
 "nbformat_minor": 5
}
